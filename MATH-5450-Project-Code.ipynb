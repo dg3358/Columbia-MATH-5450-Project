{
 "cells": [
  {
   "cell_type": "markdown",
   "metadata": {},
   "source": [
    "# Credit Analytics - Final Project Code\n",
    "By: Dennis Goldenberg, Triet Vo, Kezia "
   ]
  },
  {
   "cell_type": "code",
   "execution_count": 28,
   "metadata": {},
   "outputs": [
    {
     "name": "stderr",
     "output_type": "stream",
     "text": [
      "C:\\Users\\Dennis Goldenberg\\AppData\\Local\\Temp\\ipykernel_21048\\3981726678.py:2: DeprecationWarning: \n",
      "Pyarrow will become a required dependency of pandas in the next major release of pandas (pandas 3.0),\n",
      "(to allow more performant data types, such as the Arrow string type, and better interoperability with other libraries)\n",
      "but was not found to be installed on your system.\n",
      "If this would cause problems for you,\n",
      "please provide us feedback at https://github.com/pandas-dev/pandas/issues/54466\n",
      "        \n",
      "  import pandas as pd\n"
     ]
    }
   ],
   "source": [
    "import numpy as np\n",
    "import pandas as pd\n",
    "from scipy.stats import norm, binom"
   ]
  },
  {
   "cell_type": "markdown",
   "metadata": {},
   "source": [
    "## 1. Comparing Binomial Expansion Model to Gaussian Copula Model"
   ]
  },
  {
   "cell_type": "code",
   "execution_count": 29,
   "metadata": {},
   "outputs": [],
   "source": [
    "num_assets = 1000\n",
    "Notional = 100000000\n",
    "\n",
    "#Generate default probabilities - 250 names rated BBB, BB, B, and C\n",
    "rd_probs = [.0243, .0811, .1104, .389]\n",
    "default_probs = [.0243] * int(num_assets/4) + [.0811]*int(num_assets/4)\n",
    "default_probs = default_probs + [.1104]*int(num_assets/4) + [.389]*int(num_assets/4)\n",
    "default_probs = np.asarray(default_probs)\n",
    "\n",
    "#recover number of industries given default rates\n",
    "N_i = np.asarray([int(15/.0243),int(8/.0811),int(16/.1105), int(3/.389)])\n",
    "D_i = np.asarray([int(15), int(8), int(16),int(3)])\n",
    "\n",
    "\n",
    "#calculate joint probabilities and default correlation\n",
    "joint_prob = np.empty(shape = (4,4))\n",
    "corr_mat = np.empty(shape = (4,4))\n",
    "for i in range(len(N_i)):\n",
    "    for j in range(len(N_i)):\n",
    "        if i == j:\n",
    "            joint_prob[i,j] = (D_i[i]**2)/(N_i[i]**2)\n",
    "            corr_mat[i,j] = (joint_prob[i,j] - (rd_probs[i]**2))/(rd_probs[i]*(1 - rd_probs[i]))\n",
    "        else:\n",
    "            joint_prob[i,j] = (D_i[i] * D_i[j])/(N_i[i]*N_i[j])\n",
    "            corr_mat[i,j] = (joint_prob[i,j] - (rd_probs[i]*rd_probs[j]))\n",
    "            corr_mat[i,j] = corr_mat[i,j]/np.sqrt(rd_probs[i]*(1 - rd_probs[i]) * rd_probs[j]*(1 - rd_probs[j]))"
   ]
  },
  {
   "cell_type": "markdown",
   "metadata": {},
   "source": [
    "The joint probability of defaults is shown below:"
   ]
  },
  {
   "cell_type": "code",
   "execution_count": 33,
   "metadata": {},
   "outputs": [
    {
     "data": {
      "text/html": [
       "<div>\n",
       "<style scoped>\n",
       "    .dataframe tbody tr th:only-of-type {\n",
       "        vertical-align: middle;\n",
       "    }\n",
       "\n",
       "    .dataframe tbody tr th {\n",
       "        vertical-align: top;\n",
       "    }\n",
       "\n",
       "    .dataframe thead th {\n",
       "        text-align: right;\n",
       "    }\n",
       "</style>\n",
       "<table border=\"1\" class=\"dataframe\">\n",
       "  <thead>\n",
       "    <tr style=\"text-align: right;\">\n",
       "      <th></th>\n",
       "      <th>BBB</th>\n",
       "      <th>BB</th>\n",
       "      <th>B</th>\n",
       "      <th>C</th>\n",
       "    </tr>\n",
       "  </thead>\n",
       "  <tbody>\n",
       "    <tr>\n",
       "      <th>BBB</th>\n",
       "      <td>0.000591</td>\n",
       "      <td>0.001985</td>\n",
       "      <td>0.002701</td>\n",
       "      <td>0.010419</td>\n",
       "    </tr>\n",
       "    <tr>\n",
       "      <th>BB</th>\n",
       "      <td>0.001985</td>\n",
       "      <td>0.006664</td>\n",
       "      <td>0.009070</td>\n",
       "      <td>0.034985</td>\n",
       "    </tr>\n",
       "    <tr>\n",
       "      <th>B</th>\n",
       "      <td>0.002701</td>\n",
       "      <td>0.009070</td>\n",
       "      <td>0.012346</td>\n",
       "      <td>0.047619</td>\n",
       "    </tr>\n",
       "    <tr>\n",
       "      <th>C</th>\n",
       "      <td>0.010419</td>\n",
       "      <td>0.034985</td>\n",
       "      <td>0.047619</td>\n",
       "      <td>0.183673</td>\n",
       "    </tr>\n",
       "  </tbody>\n",
       "</table>\n",
       "</div>"
      ],
      "text/plain": [
       "          BBB        BB         B         C\n",
       "BBB  0.000591  0.001985  0.002701  0.010419\n",
       "BB   0.001985  0.006664  0.009070  0.034985\n",
       "B    0.002701  0.009070  0.012346  0.047619\n",
       "C    0.010419  0.034985  0.047619  0.183673"
      ]
     },
     "execution_count": 33,
     "metadata": {},
     "output_type": "execute_result"
    }
   ],
   "source": [
    "ratings = [\"BBB\", \"BB\", \"B\", \"C\"]\n",
    "jp_df = pd.DataFrame(data = joint_prob, columns = ratings, index = ratings)\n",
    "jp_df"
   ]
  },
  {
   "cell_type": "markdown",
   "metadata": {},
   "source": [
    "Next, the default correlation between two names, depending on their rating, is shown below:"
   ]
  },
  {
   "cell_type": "code",
   "execution_count": 34,
   "metadata": {},
   "outputs": [
    {
     "data": {
      "text/html": [
       "<div>\n",
       "<style scoped>\n",
       "    .dataframe tbody tr th:only-of-type {\n",
       "        vertical-align: middle;\n",
       "    }\n",
       "\n",
       "    .dataframe tbody tr th {\n",
       "        vertical-align: top;\n",
       "    }\n",
       "\n",
       "    .dataframe thead th {\n",
       "        text-align: right;\n",
       "    }\n",
       "</style>\n",
       "<table border=\"1\" class=\"dataframe\">\n",
       "  <thead>\n",
       "    <tr style=\"text-align: right;\">\n",
       "      <th></th>\n",
       "      <th>BBB</th>\n",
       "      <th>BB</th>\n",
       "      <th>B</th>\n",
       "      <th>C</th>\n",
       "    </tr>\n",
       "  </thead>\n",
       "  <tbody>\n",
       "    <tr>\n",
       "      <th>BBB</th>\n",
       "      <td>0.000023</td>\n",
       "      <td>0.000330</td>\n",
       "      <td>0.000384</td>\n",
       "      <td>0.012873</td>\n",
       "    </tr>\n",
       "    <tr>\n",
       "      <th>BB</th>\n",
       "      <td>0.000330</td>\n",
       "      <td>0.001163</td>\n",
       "      <td>0.001366</td>\n",
       "      <td>0.025829</td>\n",
       "    </tr>\n",
       "    <tr>\n",
       "      <th>B</th>\n",
       "      <td>0.000384</td>\n",
       "      <td>0.001366</td>\n",
       "      <td>0.001604</td>\n",
       "      <td>0.030589</td>\n",
       "    </tr>\n",
       "    <tr>\n",
       "      <th>C</th>\n",
       "      <td>0.012873</td>\n",
       "      <td>0.025829</td>\n",
       "      <td>0.030589</td>\n",
       "      <td>0.136118</td>\n",
       "    </tr>\n",
       "  </tbody>\n",
       "</table>\n",
       "</div>"
      ],
      "text/plain": [
       "          BBB        BB         B         C\n",
       "BBB  0.000023  0.000330  0.000384  0.012873\n",
       "BB   0.000330  0.001163  0.001366  0.025829\n",
       "B    0.000384  0.001366  0.001604  0.030589\n",
       "C    0.012873  0.025829  0.030589  0.136118"
      ]
     },
     "execution_count": 34,
     "metadata": {},
     "output_type": "execute_result"
    }
   ],
   "source": [
    "rho_df = pd.DataFrame(data = corr_mat, columns = ratings, index = ratings)\n",
    "rho_df"
   ]
  },
  {
   "cell_type": "markdown",
   "metadata": {},
   "source": [
    "## 2. Comparing Gaussian Copula to Fudged Period by Period Copula"
   ]
  }
 ],
 "metadata": {
  "kernelspec": {
   "display_name": "M5450env",
   "language": "python",
   "name": "python3"
  },
  "language_info": {
   "codemirror_mode": {
    "name": "ipython",
    "version": 3
   },
   "file_extension": ".py",
   "mimetype": "text/x-python",
   "name": "python",
   "nbconvert_exporter": "python",
   "pygments_lexer": "ipython3",
   "version": "3.11.7"
  }
 },
 "nbformat": 4,
 "nbformat_minor": 2
}
